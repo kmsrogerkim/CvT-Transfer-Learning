{
 "cells": [
  {
   "cell_type": "markdown",
   "id": "145c1c0b",
   "metadata": {},
   "source": [
    "# 1. Load Model"
   ]
  },
  {
   "cell_type": "code",
   "execution_count": 3,
   "id": "5d254540",
   "metadata": {},
   "outputs": [],
   "source": [
    "import torch\n",
    "import yaml\n",
    "import sys\n",
    "import os\n",
    "import re"
   ]
  },
  {
   "cell_type": "code",
   "execution_count": 7,
   "id": "37b03038",
   "metadata": {},
   "outputs": [],
   "source": [
    "DEVICE = torch.device(\"cuda\" if torch.cuda.is_available() else \"cpu\")"
   ]
  },
  {
   "cell_type": "code",
   "execution_count": 9,
   "id": "20e5824e",
   "metadata": {},
   "outputs": [
    {
     "name": "stdout",
     "output_type": "stream",
     "text": [
      "Configuration loaded successfully.\n",
      "Model built successfully.\n",
      "Missing keys: ['head.weight', 'head.bias']\n",
      "Unexpected keys: []\n",
      "Output tensor shape: torch.Size([6, 10])\n"
     ]
    }
   ],
   "source": [
    "# Add the 'lib' directory to the Python path\n",
    "# Get the current working directory of the notebook\n",
    "notebook_dir = os.getcwd()\n",
    "\n",
    "# Construct the path to the 'lib' directory\n",
    "lib_path = os.path.abspath(os.path.join(notebook_dir, 'lib'))\n",
    "\n",
    "# Add the 'lib' directory to the Python path\n",
    "sys.path.insert(0, lib_path)\n",
    "\n",
    "from models import build_model\n",
    "from config import config\n",
    "\n",
    "# 2. Load the configuration\n",
    "cfg_file = \"./cvt-13-224x224.yaml\"\n",
    "config.defrost()\n",
    "with open(cfg_file, 'r') as f:\n",
    "    yaml_cfg = yaml.safe_load(f)\n",
    "base_cfg = yaml_cfg.get('BASE', [])\n",
    "if isinstance(base_cfg, str):\n",
    "    base_cfg = [base_cfg]\n",
    "config.merge_from_file(cfg_file)\n",
    "config.MODEL.NUM_CLASSES = 10\n",
    "config.freeze()\n",
    "print(\"Configuration loaded successfully.\")\n",
    "\n",
    "# 3. Build the model\n",
    "model: torch.nn.Module = build_model(config)\n",
    "print(\"Model built successfully.\")\n",
    "model.to(DEVICE)\n",
    "\n",
    "state_dict = torch.load(\"./CvT-13-224x224-IN-1k.pth\", weights_only=True, map_location=DEVICE)\n",
    "\n",
    "# 4. Extract Only Backbone Weights for Transfer Learning\n",
    "# If the checkpoint is wrapped (e.g., {\"model\": sd} or DDP \"module.\" prefix), unwrap/strip here:\n",
    "if isinstance(state_dict, dict) and \"state_dict\" in state_dict:\n",
    "    state_dict = state_dict[\"state_dict\"]\n",
    "state_dict = {k.removeprefix(\"module.\"): v for k, v in state_dict.items()}\n",
    "# Patterns for head keys — adapt if your head is named differently\n",
    "# (common names: \"head.*\", \"mlp_head.*\", \"classifier.*\", \"fc.*\")\n",
    "head_pat = re.compile(r\"^(head\\.|mlp_head\\.|classifier\\.|fc\\.)\")\n",
    "backbone_only = {k: v for k, v in state_dict.items() if not head_pat.match(k)}\n",
    "\n",
    "missing, unexpected = model.load_state_dict(backbone_only, strict=False)\n",
    "print(\"Missing keys:\", missing)\n",
    "print(\"Unexpected keys:\", unexpected)\n",
    "model.eval()\n",
    "\n",
    "# 5. Perform a forward pass\n",
    "input_tensor = torch.randn(6, 3, 224, 224).to(DEVICE)\n",
    "with torch.no_grad():\n",
    "    output = model(input_tensor)\n",
    "print(f\"Output tensor shape: {output.shape}\")"
   ]
  },
  {
   "cell_type": "markdown",
   "id": "78295331",
   "metadata": {},
   "source": [
    "# 2. Load Data"
   ]
  },
  {
   "cell_type": "code",
   "execution_count": 11,
   "id": "b6fb4e8f",
   "metadata": {},
   "outputs": [],
   "source": [
    "CSV_PATH = \"./data/train.csv\""
   ]
  },
  {
   "cell_type": "code",
   "execution_count": 10,
   "id": "3de27274",
   "metadata": {},
   "outputs": [],
   "source": [
    "import pandas as pd"
   ]
  }
 ],
 "metadata": {
  "kernelspec": {
   "display_name": "cvt-py3.12 (3.12.3)",
   "language": "python",
   "name": "python3"
  },
  "language_info": {
   "codemirror_mode": {
    "name": "ipython",
    "version": 3
   },
   "file_extension": ".py",
   "mimetype": "text/x-python",
   "name": "python",
   "nbconvert_exporter": "python",
   "pygments_lexer": "ipython3",
   "version": "3.12.3"
  }
 },
 "nbformat": 4,
 "nbformat_minor": 5
}
